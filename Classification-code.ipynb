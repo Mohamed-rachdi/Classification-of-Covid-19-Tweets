{
 "cells": [
  {
   "cell_type": "code",
   "execution_count": 6,
   "id": "8b68c7e0",
   "metadata": {},
   "outputs": [],
   "source": [
    "import pandas as pd"
   ]
  },
  {
   "cell_type": "code",
   "execution_count": 7,
   "id": "28076e8d",
   "metadata": {},
   "outputs": [],
   "source": [
    "import matplotlib.pyplot as plt  \n",
    "import seaborn as sns"
   ]
  },
  {
   "cell_type": "code",
   "execution_count": 8,
   "id": "3b5bcbae",
   "metadata": {},
   "outputs": [],
   "source": [
    "import warnings \n",
    "warnings.filterwarnings('ignore')"
   ]
  },
  {
   "cell_type": "code",
   "execution_count": 9,
   "id": "46e55a6f",
   "metadata": {},
   "outputs": [],
   "source": [
    "df = pd.read_csv(\"data/covid19_tweets.csv\")"
   ]
  },
  {
   "cell_type": "code",
   "execution_count": 7,
   "id": "250efc6b",
   "metadata": {},
   "outputs": [
    {
     "data": {
      "text/html": [
       "<div>\n",
       "<style scoped>\n",
       "    .dataframe tbody tr th:only-of-type {\n",
       "        vertical-align: middle;\n",
       "    }\n",
       "\n",
       "    .dataframe tbody tr th {\n",
       "        vertical-align: top;\n",
       "    }\n",
       "\n",
       "    .dataframe thead th {\n",
       "        text-align: right;\n",
       "    }\n",
       "</style>\n",
       "<table border=\"1\" class=\"dataframe\">\n",
       "  <thead>\n",
       "    <tr style=\"text-align: right;\">\n",
       "      <th></th>\n",
       "      <th>user_name</th>\n",
       "      <th>user_location</th>\n",
       "      <th>user_description</th>\n",
       "      <th>user_created</th>\n",
       "      <th>user_followers</th>\n",
       "      <th>user_friends</th>\n",
       "      <th>user_favourites</th>\n",
       "      <th>user_verified</th>\n",
       "      <th>date</th>\n",
       "      <th>text</th>\n",
       "      <th>hashtags</th>\n",
       "      <th>source</th>\n",
       "      <th>is_retweet</th>\n",
       "    </tr>\n",
       "  </thead>\n",
       "  <tbody>\n",
       "    <tr>\n",
       "      <th>0</th>\n",
       "      <td>ᏉᎥ☻լꂅϮ</td>\n",
       "      <td>astroworld</td>\n",
       "      <td>wednesday addams as a disney princess keepin i...</td>\n",
       "      <td>2017-05-26 05:46:42</td>\n",
       "      <td>624</td>\n",
       "      <td>950</td>\n",
       "      <td>18775</td>\n",
       "      <td>False</td>\n",
       "      <td>2020-07-25 12:27:21</td>\n",
       "      <td>If I smelled the scent of hand sanitizers toda...</td>\n",
       "      <td>NaN</td>\n",
       "      <td>Twitter for iPhone</td>\n",
       "      <td>False</td>\n",
       "    </tr>\n",
       "    <tr>\n",
       "      <th>1</th>\n",
       "      <td>Tom Basile 🇺🇸</td>\n",
       "      <td>New York, NY</td>\n",
       "      <td>Husband, Father, Columnist &amp; Commentator. Auth...</td>\n",
       "      <td>2009-04-16 20:06:23</td>\n",
       "      <td>2253</td>\n",
       "      <td>1677</td>\n",
       "      <td>24</td>\n",
       "      <td>True</td>\n",
       "      <td>2020-07-25 12:27:17</td>\n",
       "      <td>Hey @Yankees @YankeesPR and @MLB - wouldn't it...</td>\n",
       "      <td>NaN</td>\n",
       "      <td>Twitter for Android</td>\n",
       "      <td>False</td>\n",
       "    </tr>\n",
       "    <tr>\n",
       "      <th>2</th>\n",
       "      <td>Time4fisticuffs</td>\n",
       "      <td>Pewee Valley, KY</td>\n",
       "      <td>#Christian #Catholic #Conservative #Reagan #Re...</td>\n",
       "      <td>2009-02-28 18:57:41</td>\n",
       "      <td>9275</td>\n",
       "      <td>9525</td>\n",
       "      <td>7254</td>\n",
       "      <td>False</td>\n",
       "      <td>2020-07-25 12:27:14</td>\n",
       "      <td>@diane3443 @wdunlap @realDonaldTrump Trump nev...</td>\n",
       "      <td>['COVID19']</td>\n",
       "      <td>Twitter for Android</td>\n",
       "      <td>False</td>\n",
       "    </tr>\n",
       "    <tr>\n",
       "      <th>3</th>\n",
       "      <td>ethel mertz</td>\n",
       "      <td>Stuck in the Middle</td>\n",
       "      <td>#Browns #Indians #ClevelandProud #[]_[] #Cavs ...</td>\n",
       "      <td>2019-03-07 01:45:06</td>\n",
       "      <td>197</td>\n",
       "      <td>987</td>\n",
       "      <td>1488</td>\n",
       "      <td>False</td>\n",
       "      <td>2020-07-25 12:27:10</td>\n",
       "      <td>@brookbanktv The one gift #COVID19 has give me...</td>\n",
       "      <td>['COVID19']</td>\n",
       "      <td>Twitter for iPhone</td>\n",
       "      <td>False</td>\n",
       "    </tr>\n",
       "    <tr>\n",
       "      <th>4</th>\n",
       "      <td>DIPR-J&amp;K</td>\n",
       "      <td>Jammu and Kashmir</td>\n",
       "      <td>🖊️Official Twitter handle of Department of Inf...</td>\n",
       "      <td>2017-02-12 06:45:15</td>\n",
       "      <td>101009</td>\n",
       "      <td>168</td>\n",
       "      <td>101</td>\n",
       "      <td>False</td>\n",
       "      <td>2020-07-25 12:27:08</td>\n",
       "      <td>25 July : Media Bulletin on Novel #CoronaVirus...</td>\n",
       "      <td>['CoronaVirusUpdates', 'COVID19']</td>\n",
       "      <td>Twitter for Android</td>\n",
       "      <td>False</td>\n",
       "    </tr>\n",
       "  </tbody>\n",
       "</table>\n",
       "</div>"
      ],
      "text/plain": [
       "         user_name         user_location  \\\n",
       "0           ᏉᎥ☻լꂅϮ            astroworld   \n",
       "1    Tom Basile 🇺🇸          New York, NY   \n",
       "2  Time4fisticuffs      Pewee Valley, KY   \n",
       "3      ethel mertz  Stuck in the Middle    \n",
       "4         DIPR-J&K     Jammu and Kashmir   \n",
       "\n",
       "                                    user_description         user_created  \\\n",
       "0  wednesday addams as a disney princess keepin i...  2017-05-26 05:46:42   \n",
       "1  Husband, Father, Columnist & Commentator. Auth...  2009-04-16 20:06:23   \n",
       "2  #Christian #Catholic #Conservative #Reagan #Re...  2009-02-28 18:57:41   \n",
       "3  #Browns #Indians #ClevelandProud #[]_[] #Cavs ...  2019-03-07 01:45:06   \n",
       "4  🖊️Official Twitter handle of Department of Inf...  2017-02-12 06:45:15   \n",
       "\n",
       "   user_followers  user_friends  user_favourites  user_verified  \\\n",
       "0             624           950            18775          False   \n",
       "1            2253          1677               24           True   \n",
       "2            9275          9525             7254          False   \n",
       "3             197           987             1488          False   \n",
       "4          101009           168              101          False   \n",
       "\n",
       "                  date                                               text  \\\n",
       "0  2020-07-25 12:27:21  If I smelled the scent of hand sanitizers toda...   \n",
       "1  2020-07-25 12:27:17  Hey @Yankees @YankeesPR and @MLB - wouldn't it...   \n",
       "2  2020-07-25 12:27:14  @diane3443 @wdunlap @realDonaldTrump Trump nev...   \n",
       "3  2020-07-25 12:27:10  @brookbanktv The one gift #COVID19 has give me...   \n",
       "4  2020-07-25 12:27:08  25 July : Media Bulletin on Novel #CoronaVirus...   \n",
       "\n",
       "                            hashtags               source  is_retweet  \n",
       "0                                NaN   Twitter for iPhone       False  \n",
       "1                                NaN  Twitter for Android       False  \n",
       "2                        ['COVID19']  Twitter for Android       False  \n",
       "3                        ['COVID19']   Twitter for iPhone       False  \n",
       "4  ['CoronaVirusUpdates', 'COVID19']  Twitter for Android       False  "
      ]
     },
     "execution_count": 7,
     "metadata": {},
     "output_type": "execute_result"
    }
   ],
   "source": [
    "df.head()"
   ]
  },
  {
   "cell_type": "code",
   "execution_count": 15,
   "id": "53d9ef7e",
   "metadata": {},
   "outputs": [
    {
     "data": {
      "text/plain": [
       "'You now have to wear face coverings when out shopping - this includes a visit to your local Community Pharmacy… https://t.co/OSu5Q4kdd7'"
      ]
     },
     "execution_count": 15,
     "metadata": {},
     "output_type": "execute_result"
    }
   ],
   "source": [
    "df.text[7]"
   ]
  },
  {
   "cell_type": "code",
   "execution_count": 7,
   "id": "4f5fafa2",
   "metadata": {},
   "outputs": [
    {
     "data": {
      "text/plain": [
       "user_name           object\n",
       "user_location       object\n",
       "user_description    object\n",
       "user_created        object\n",
       "user_followers       int64\n",
       "user_friends         int64\n",
       "user_favourites      int64\n",
       "user_verified         bool\n",
       "date                object\n",
       "text                object\n",
       "hashtags            object\n",
       "source              object\n",
       "is_retweet            bool\n",
       "dtype: object"
      ]
     },
     "execution_count": 7,
     "metadata": {},
     "output_type": "execute_result"
    }
   ],
   "source": [
    "df.dtypes"
   ]
  },
  {
   "cell_type": "code",
   "execution_count": 8,
   "id": "18305db3",
   "metadata": {},
   "outputs": [
    {
     "data": {
      "text/plain": [
       "array(['Twitter for iPhone', 'Twitter for Android', 'Twitter Web App',\n",
       "       'Buffer', 'TweetDeck', 'Twitter for iPad', 'Africa Newsroom',\n",
       "       'Blood Donors India', 'TweetCaster for Android',\n",
       "       'Alexander Higgins', 'IFTTT', 'Hootsuite Inc.', 'Sprout Social',\n",
       "       'Sprinklr', 'assarofficial', 'IAMBLOG2TWITTER', 'CrowdControlHQ',\n",
       "       'COVID19-Updates', 'EveryoneSocial', 'Dynamic Signal', 'Instagram',\n",
       "       'TweetCaster for iOS', 'GlobalPandemic.NET', 'Venrap Radio',\n",
       "       'HeyOrca', 'Twitter for Advertisers', 'Paper.li',\n",
       "       'Twitter Media Studio', 'Twitter for Mac', 'dlvr.it',\n",
       "       'Cheap Bots, Done Quick!', 'Prof. Shanku', 'LaterMedia',\n",
       "       'SEMrush Social Media Tool', 'Twitterrific for iOS',\n",
       "       \"Sebastian's Twitter Bot\", 'Threader_client', 'COVID19FactoidBot',\n",
       "       'PwC UK SMART', 'tweet pro stiff', 'UK COVID-19 Alerts',\n",
       "       'Resistbot Open Letters', 'preprint-alert', 'ContentStudio.io',\n",
       "       'Peeping Moon', 'TweetAutomaticos', 'Orlo', 'AgoraPulse Manager',\n",
       "       'Meltwater Social', 'Blog2Social APP',\n",
       "       'Social Genie by Brighter Vision', 'Social Media Publisher App ',\n",
       "       'VoiceToData', 'Hearsay Social', 'Metricool', 'SocialPilot.co',\n",
       "       'Loomly', 'Оwly', 'Facelift-Cloud', 'Khoros', 'Oktopost',\n",
       "       'coronaData_Test', 'SocialOomph', 'SmarterQueue',\n",
       "       'Salesforce - Social Studio', 'Twittimer', 'Dolar Değişti!',\n",
       "       'COVID19 Update', 'LinkedIn', 'Socialbakers',\n",
       "       'Bambu by Sprout Social', 'HubSpot', 'National Herald',\n",
       "       'Twitter Ads', 'twootlk', 'WordPress.com',\n",
       "       'Twitter Media Studio - LiveCut', 'Covid-19 Bot',\n",
       "       'Tweetbot for iΟS', 'Zoho Social', 'Mobile Web (M2)',\n",
       "       'Global Citizen Mobile App', 'whatSaoCarlos', 'Tweetbot for Mac',\n",
       "       'FS Poster', 'rate_twitte', 'corona-recoveries',\n",
       "       'The Social Jukebox', 'ContentCal Studio', 'OneUp App',\n",
       "       'Promo.com', 'TopHashtags', 'autotweet scheduler', 'NepalCorona',\n",
       "       'Khoros Marketing', 'Hocalwire Social Share', 'DataScienceInfo',\n",
       "       'crystalwind.ca', 'SNAP-Homeless Times',\n",
       "       'COVID-19 Information Bot', 'eMartmarket', 'trackingbot2020',\n",
       "       'MeetEdgar', 'Twidere for Android', 'econ b2b post', 'Aleph א ',\n",
       "       'SocialBee.io v2', 'Spreaker', 'ExanteData Robots', 'Mention\\xa0',\n",
       "       'Sked Social', 'Periscope', 'CoronaVirus Bot by Sloth',\n",
       "       'dailyindia', 'Tweet Suite', 'SurveyCircle Team', 'PTI_Tweets',\n",
       "       'Swat.io', 'Restream.io', 'Powered by Sprinklr', 'GT_Backend',\n",
       "       'HN_Comments', '@thedextazlab', 'China Xinhua News', 'ArmeniaITN',\n",
       "       'Crowdfire App', 'Microsoft Power Platform', 'Bitly', 'Echofon',\n",
       "       'Ripl App', 'WPwamnwebsitescript', 'corona_stats',\n",
       "       'CoronaTrackerMY', 'The Tweeted Times', 'Qureet Leads',\n",
       "       'Threat Intel Hub', 'My Khel', 'Falcon Social Media Management ',\n",
       "       'Zapier.com', 'Echobox', 'Scoop.it', 'SocialRabbit Plugin',\n",
       "       'covid19_tracker', 'Cubi.so', 'SocialChamp IO ', 'twittbot.net',\n",
       "       'pixiv: Post to Twitter', 'drumup.io', 'mpsontwitter.co.uk',\n",
       "       'Covid19daily', 'SocialFlow', 'Vattel Tracker Dev',\n",
       "       'Radio.co now playing', 'POST.it - Edit,Share,Rediscover',\n",
       "       'SocialNewsDesk', nan, 'Phone2Action', 'tweeter_biases',\n",
       "       'Heropost', 'rhega.net', 'Nuzzel', 'DR Data', 'Seket Aanru LVLII',\n",
       "       'Grabyo', 'sphere_ja_bot', 'Wildmoka', 'TrackerCV',\n",
       "       \"iContact's Social Tools\", 'Igorotage', 'HWD', 'Mailchimp',\n",
       "       'Sprinklr Publishing', 'Integromat', 'Fabrik.fm',\n",
       "       'Clearview Social, Inc.', 'Friends Me', 'Stuffed Productions',\n",
       "       'Revive Social App', 'Flamingo for Android',\n",
       "       'Microsoft Azure Logic Apps', 'MavSocial App', 'Smarp.',\n",
       "       'UberSocial for Android', 'Missinglettr', 'Canva', 'Talon Android',\n",
       "       'Konnect Social', 'Siargao Guide', 'PinkVilla', 'Penname',\n",
       "       'Kashmir Life', \"Monty's Twitter Reposter\", 'SnapStream TV Search',\n",
       "       'WatchDog Uganda', 'True Anthem', 'MarketingSuite', 'Corona-Stats',\n",
       "       'Twitter for  iPhone', 'Social Head', 'BookClubProTweet',\n",
       "       'covid19_counter', 'PromoRepublic', 'PolitiHUB.us', 'Raven Tools',\n",
       "       'COVID19-Tweet', 'Cancer Health Auto Tweet', 'remote.io',\n",
       "       'Arena.im', 'Isrg', 'Constant Contact', 'Google', 'VegaLms',\n",
       "       'DTR Auto Post', 'CoSchedule', 'COVID19 Daily Stats', 'CovidDay',\n",
       "       'COVID-19MX', 'SmartNews | スマートニュース', 'Spire FM', 'eClincher',\n",
       "       'Typepad', 'Publer ', 'Botbird tweets', 'shankar_live_bot',\n",
       "       'Shauntv', \"Bob's Python tweetbot\", 'Sprinklr Publisher',\n",
       "       'Commun.it Intelligence', 'Nintendo Switch Share',\n",
       "       \"Stalin's Twitter Reposter\", 'WeVideo', 'recurpost.com',\n",
       "       'El Cañonazo de las 9', 'Tweetings for Android', 'JoinDiaspora',\n",
       "       'Post Planner Inc.', 'DopeyUncle2', 'COVIDRecoveredBot',\n",
       "       'Qnary.io', 'Canada Covid-19 Stats', 'Twitter Test App P',\n",
       "       'Nelio Content', 'PlayStation®Network', 'Covid19_MV',\n",
       "       'Postcron App', 'TtwTimes Top News', 'Chicken Nugget',\n",
       "       'Plume\\xa0for\\xa0Android', 'Fenix 2', 'ETRetail.com',\n",
       "       'Campaign Share', 'Postfity.com', 'newsgovhk', 'Sociality.io',\n",
       "       'Echofon  Android', \"Rumpet's Twitter Poster\", 'PostBeyond',\n",
       "       'dnh twitter publisher', 'news_by_gatfil', 'Pardot',\n",
       "       'App for IconicHipster.com', 'CovidUpdatesBot', 'KhuramKTS',\n",
       "       'NIAAuto', 'fovle', 'Imminent News', 'PublishBestNews',\n",
       "       'LFALSNAPAP', 'HW news english', 'StreamElements',\n",
       "       'Mediaproxy LogJam', 'dancehallaudio',\n",
       "       'Liberal Forum Political Chat', 'NippyTweet',\n",
       "       'That Best Home Automation', 'Dear_Assistant', 'Bot Libre!',\n",
       "       'NCoV-19 Tracker', 'tprzechlewski.app', 'DataBlogger',\n",
       "       'POZ Auto Tweet', 'SocialDog for Twitter', 'AtlantaTechBlogs',\n",
       "       'ReadyForSocial App', 'Traject Social', 'abrbuzz',\n",
       "       'Auto-Post (IMW)', 'ME Construction News', 'NetNaija Twiit',\n",
       "       'TrafficChiefNG', 'EUobserver', 'Flote.app', 'aa.com.tr',\n",
       "       'Twitterrific for Mac', 'Bizcommunity.com', 'Covid Robot',\n",
       "       'VoxPop Sync', 'stocktitan', 'StockTwits Web', 'Dr. Kill Pain',\n",
       "       'SociabbleApp', 'Post to Social by SHIFT1', 'PRNewswire',\n",
       "       'Hep Auto Tweet', 'Chorus publishing platform',\n",
       "       'masterdebater.net', 'A Touch of Snark', 'Login CricketCountry',\n",
       "       \"Let's Talk Singapore\", 'RiteKit', 'Etsy', 'Zlappo.com',\n",
       "       'DirectorsTalk Auto Posting', 'GlobalVillageSpace',\n",
       "       'TeamSight Publisher', 'naalikeram', 'Amplifr', 'News Medical',\n",
       "       'Agenparl', 'Hacker Noon', 'Salsa Social Publishing', 'feedspora2',\n",
       "       'Tech_Tee_Shop', 'CensoredTodayPoster', 'Tumblr', 'Weebly App',\n",
       "       'science faction twitter bot', 'SocialHub by maloon', 'PNSposter',\n",
       "       'Social Reputation', 'RSS Masher - Dev', 'Planable', 'Trump OwO',\n",
       "       \"Bongani's Auto Poster\", 'TTYtter', 'BAPSCharities',\n",
       "       'thefivedaily', 'RegulatorWatch.com', 'BrentStafford.com',\n",
       "       'Phil Ammann', 'flapol', 'Squarespace', 'VoiceFeed',\n",
       "       'Libsyn On-Publish', 'Sharpspring', 'Twitseq', 'Social Press Kit',\n",
       "       'Lightful', 'Gain Platform', 'OregonCovidApp',\n",
       "       'Dynamics 365 for Marketing', 'yorkshire-times', 'Contento App',\n",
       "       'XHNorthAmerica', 'ContentMX', 'opendorse', 'Greenfly',\n",
       "       'Freshdesk', 'Triberr', 'EdgeTheory', 'Emma Social Connector',\n",
       "       'POZ Global Auto Tweets', 'likefollowretweet', 'Healio Twitter',\n",
       "       'Partnermarketing.com', 'EnrichrBot', 'Statusbrew',\n",
       "       'Zift Platform', 'Constant Contact - Social Posts', 'Tweepsmap',\n",
       "       'WayScript', 'SoCast Digital', 'allAfrica.com', 'paulcrypto',\n",
       "       'nwindianabusiness.com', 'tc_covid_bot', 'Newry.ie',\n",
       "       'SPTK: DVOrangeCounty', 'cmsoc', 'VoterVoice Tweet', 'Rallio',\n",
       "       'FalconPro3', 'Cloud Campaign', 'RelojesESP', 'Socialchief',\n",
       "       'SpaceRefTweet', 'PLAYLOADED.COM', 'TD Wealth Social Centre',\n",
       "       'covid19oceanupdate', 'Janetter Pro for Android',\n",
       "       'Fortinet Partner Social', 'Emphatic', 'BLOX CMS',\n",
       "       'Onollo Software', 'GCCHD', 'floridapolitics.com', 'Web lider',\n",
       "       'SOCi - Simplifying Social Media', 'Contentpilot', 'ayasetenchi',\n",
       "       'Chimpify', \"K's posts\", 'Downtime Monkey', 'COVID19TwitterKenya',\n",
       "       'Quotes as image', 'Lead Accel', 'Streamlabs Twitter',\n",
       "       'Dynamic Tweets', 'LatelyAI', 'Foursquare', 'Maat_Interface',\n",
       "       'coronaBot-Purvesh', 'OneCMS Social Connect', 'BTCNbot',\n",
       "       'InterfaceCDM', 'QuickTake by Bloomberg', 'Fan Page Robot',\n",
       "       'Hypefury', 'VotepledgeBot', 'covidestimates',\n",
       "       'Phone2Action Advocacy', 'Enthusiast97', 'NewsAutocorrect',\n",
       "       'Ohhtweet', 'TheLancsTimes', 'TW Blue', 'Apphi',\n",
       "       'Canada COVID-19 Bot', 'standard3d', 'chirr.app',\n",
       "       'GearGuide Twitter', 'SlackSocial', 'Pressenza IPA eng',\n",
       "       'SiteAssist Social Posting', 'ZenRud', 'ThreadReaderApp',\n",
       "       'Cognitive Website', 'UNIAN.info', 'UNIAN Info',\n",
       "       'Tech Nation News updates', 'Fenix for Android', 'Percolate',\n",
       "       'GroupTweet', 'Social Aider', 'CyberSecDN v.2',\n",
       "       'Inclusibot_Revenge', 'Nolwa-Digital', 'OS X', \"Janindu's Bot\",\n",
       "       'Influitive', 'Tweecha Lite', 'SocialShare PRD',\n",
       "       'Woofy Social Media Scheduler', 'ISN Autotweet',\n",
       "       'App for TonysTShirts', 'Market Beam', 'PLANOLY', 'COVIDTweetBot',\n",
       "       'eupdater', 'Newswise Expert Pitch', 'Bigram Poetry',\n",
       "       'Imbibe Website Publishing', 'PixelTweeter', 'Coosto', 'Nonli',\n",
       "       'Blackbird Video Platform/Amplify', 'ALCOVID19',\n",
       "       'Hub Central APP Agencies', 'Marketing Agency', '4strat-foresight',\n",
       "       'audioBoom', 'Grapevine6', 'GaggleAMP', 'StockBot0001',\n",
       "       'SocialPost App', 'Right Relevance', 'Social5',\n",
       "       'COVID Articles on SP Journals', 'coronalivebot',\n",
       "       'Ontario_Covid19', 'Zymplify', 'Whitley2020', 'ChimpReports_',\n",
       "       'OnlyPultCom', 'Washington Square Parkerz', 'WashSquarePrkrz',\n",
       "       'VA COVID-19 Updates', 'twmode', 'www.diolch.wales',\n",
       "       'COVID-19 Alerts', 'TMZ iPhone Social Application',\n",
       "       'Elgato Stream Deck', 'Bloglovin', 'Coronavirus tracker bot',\n",
       "       \"Joe's Politics\", 'TwitPane for Android', 'EastMojo',\n",
       "       'Co-Kinetic ', 'Moa Bridge', 'UhmazingPressRelease',\n",
       "       'Ozclubbers Posts', '15 Minute Fun', 'plague-bot', 'Ryzely',\n",
       "       'LegendLakeComApp', 'STL.News', 'Tweetlogix', 'WoopSocial',\n",
       "       'Vaccines and Homeopathy News', 'Lately Social', 'SocialGest',\n",
       "       'BS-SMAP', 'PressPage Manager', 'Snaps1', 'App Political Hispanic',\n",
       "       '24liveblog', 'Choqok', 'GovernmentCyberWeb', 'PublishToTwitter',\n",
       "       'xh_scitech', 'WP to Twitter EPR', 'Ground News',\n",
       "       'Twitter Web Client', 'uwf.london', 'Posting Platform',\n",
       "       'WP to Twitter IAR', 'Total Travel TAG', '_stranger_twitterbot_',\n",
       "       'Paiger', 'CGS Tech Tweeter', ' Xinhua Sports', 'TanPaulus27',\n",
       "       'Mastodon-Twitter Crossposter', 'TS Auto Tweet', 'RH Auto Tweet',\n",
       "       'Twibble.io', 'Portal de CNMG', 'Revive Old NatCorn Posts',\n",
       "       'The Recycler', 'Kontentino', 'PostPickr', 'HealthBuzz Tweets',\n",
       "       'CIO Tech Asia Twitter', 'PolitiTweet Alerts', 'Africa News Hub',\n",
       "       'Dram Scotland', 'oneindia entertainment', 'gifincric',\n",
       "       'The Shirt List', 'Hail — Create Curate Communicate',\n",
       "       \"Hamish's Twitter Reposter\", 'Sane Auto Tweet', 'forafriendbot',\n",
       "       'Boma Marketing', 'Fox XRIO 2 News ', 'trumpDigest', 'CivilDialog',\n",
       "       'Do It Later', 'ActivewearShopping', 'peetm', 'covid19statusbot',\n",
       "       'Academia Meme Stack', 'The Unshackled',\n",
       "       'Unshackled Content Poster', 'The Tweeted Times Mobile',\n",
       "       'BT Production Site', 'Freebie-Depot', 'CareerIndia_Tweet_Counts',\n",
       "       'LOOKBOOK.nu', 'FPTraffic', 'William Travis Hardman',\n",
       "       'SPTK: PutnamDV', 'Daily Voice Suffolk County', 'Boost Old Posts',\n",
       "       'TheWhiteHouse', 'Twitter VIT App for iOS', 'CletusDroo',\n",
       "       'iHeartMedia Publishing', 'Metigy', 'WIZS 1450 AM',\n",
       "       'Clarabridge Engage', 'NewsFromDonbass', 'Plurk',\n",
       "       'feather for iOS  ', 'Partisan Issues?', 'POZ Army Auto Tweets',\n",
       "       'InfoBlaze Southeast Asia', 'Conservative Daily News',\n",
       "       'MomoRScrape', 'Sendible', 'News Users', 'twidered',\n",
       "       ' autopo.st - @Radio_Lichfield', 'apherald', 'InfoBlaze India',\n",
       "       'JustVent.LIVE', 'CyberSecDN v.7', 'SameraVinson', 'Hiplay',\n",
       "       'doctroidbot', 'Poshmark', 'rtweet_token_sc', 'Paradym Social',\n",
       "       'covid-19data', 'Covid19MT', 'Cawbird', 'Auto tweets',\n",
       "       'Blaq for BlackBerry® 10', 'CoronaWatchUSA', 'oysttyer',\n",
       "       'Radiology: AI app'], dtype=object)"
      ]
     },
     "execution_count": 8,
     "metadata": {},
     "output_type": "execute_result"
    }
   ],
   "source": [
    "df['source'].unique()"
   ]
  },
  {
   "cell_type": "code",
   "execution_count": 9,
   "id": "af02d44a",
   "metadata": {},
   "outputs": [
    {
     "data": {
      "text/plain": [
       "Twitter Web App              56891\n",
       "Twitter for Android          40179\n",
       "Twitter for iPhone           35472\n",
       "TweetDeck                     8543\n",
       "Hootsuite Inc.                7321\n",
       "                             ...  \n",
       "DataBlogger                      1\n",
       "Dear_Assistant                   1\n",
       "OnlyPultCom                      1\n",
       "Washington Square Parkerz        1\n",
       "Radiology: AI app                1\n",
       "Name: source, Length: 610, dtype: int64"
      ]
     },
     "execution_count": 9,
     "metadata": {},
     "output_type": "execute_result"
    }
   ],
   "source": [
    "df['source'].value_counts()"
   ]
  },
  {
   "cell_type": "code",
   "execution_count": 11,
   "id": "0190b7e9",
   "metadata": {},
   "outputs": [
    {
     "data": {
      "text/plain": [
       "Twitter Web App            56891\n",
       "Twitter for Android        40179\n",
       "Twitter for iPhone         35472\n",
       "TweetDeck                   8543\n",
       "Hootsuite Inc.              7321\n",
       "Twitter for iPad            4336\n",
       "Buffer                      2728\n",
       "Sprout Social               1833\n",
       "Instagram                   1759\n",
       "IFTTT                       1545\n",
       "dlvr.it                      681\n",
       "GlobalPandemic.NET           679\n",
       "LinkedIn                     628\n",
       "COVID19-Updates              625\n",
       "Twitter Media Studio         596\n",
       "WordPress.com                537\n",
       "HubSpot                      513\n",
       "Sprinklr                     497\n",
       "FS Poster                    414\n",
       "Dynamic Signal               391\n",
       "Resistbot Open Letters       390\n",
       "Cheap Bots, Done Quick!      335\n",
       "Paper.li                     322\n",
       "Twitter for Advertisers      317\n",
       "Blood Donors India           281\n",
       "IAMBLOG2TWITTER              266\n",
       "Alexander Higgins            225\n",
       "Zoho Social                  224\n",
       "The Social Jukebox           216\n",
       "Fabrik.fm                    209\n",
       "Name: source, dtype: int64"
      ]
     },
     "execution_count": 11,
     "metadata": {},
     "output_type": "execute_result"
    }
   ],
   "source": [
    "df['source'].value_counts().nlargest(30)"
   ]
  },
  {
   "cell_type": "code",
   "execution_count": 13,
   "id": "0d849069",
   "metadata": {},
   "outputs": [
    {
     "data": {
      "text/plain": [
       "<AxesSubplot:>"
      ]
     },
     "execution_count": 13,
     "metadata": {},
     "output_type": "execute_result"
    },
    {
     "data": {
      "image/png": "[encoded data removed]",
      "text/plain": [
       "<Figure size 432x288 with 1 Axes>"
      ]
     },
     "metadata": {
      "needs_background": "light"
     },
     "output_type": "display_data"
    }
   ],
   "source": [
    "df['source'].value_counts().nlargest(30).plot(kind='bar')"
   ]
  },
  {
   "cell_type": "code",
   "execution_count": 18,
   "id": "2b476b77",
   "metadata": {},
   "outputs": [
    {
     "data": {
      "image/png": "[encoded data removed]",
      "text/plain": [
       "<Figure size 1440x720 with 1 Axes>"
      ]
     },
     "metadata": {
      "needs_background": "light"
     },
     "output_type": "display_data"
    }
   ],
   "source": [
    "plt.figure(figsize=(20,10))\n",
    "df['source'].value_counts().nlargest(30).plot(kind='bar')\n",
    "plt.xticks(rotation=45)\n",
    "plt.show()"
   ]
  },
  {
   "cell_type": "code",
   "execution_count": 2,
   "id": "9136ded8",
   "metadata": {},
   "outputs": [],
   "source": [
    "import neattext.functions as nfx"
   ]
  },
  {
   "cell_type": "code",
   "execution_count": 4,
   "id": "6684b996",
   "metadata": {},
   "outputs": [
    {
     "data": {
      "text/plain": [
       "['BTC_ADDRESS_REGEX',\n",
       " 'CURRENCY_REGEX',\n",
       " 'CURRENCY_SYMB_REGEX',\n",
       " 'Counter',\n",
       " 'DATE_REGEX',\n",
       " 'EMAIL_REGEX',\n",
       " 'EMOJI_REGEX',\n",
       " 'HASTAG_REGEX',\n",
       " 'MASTERCard_REGEX',\n",
       " 'MD5_SHA_REGEX',\n",
       " 'MOST_COMMON_PUNCT_REGEX',\n",
       " 'NUMBERS_REGEX',\n",
       " 'PHONE_REGEX',\n",
       " 'PoBOX_REGEX',\n",
       " 'SPECIAL_CHARACTERS_REGEX',\n",
       " 'STOPWORDS',\n",
       " 'STOPWORDS_de',\n",
       " 'STOPWORDS_en',\n",
       " 'STOPWORDS_es',\n",
       " 'STOPWORDS_fr',\n",
       " 'STOPWORDS_ru',\n",
       " 'STOPWORDS_yo',\n",
       " 'STREET_ADDRESS_REGEX',\n",
       " 'TextFrame',\n",
       " 'URL_PATTERN',\n",
       " 'USER_HANDLES_REGEX',\n",
       " 'VISACard_REGEX',\n",
       " '__builtins__',\n",
       " '__cached__',\n",
       " '__doc__',\n",
       " '__file__',\n",
       " '__generate_text',\n",
       " '__loader__',\n",
       " '__name__',\n",
       " '__numbers_dict',\n",
       " '__package__',\n",
       " '__spec__',\n",
       " '_lex_richness_herdan',\n",
       " '_lex_richness_maas_ttr',\n",
       " 'clean_text',\n",
       " 'defaultdict',\n",
       " 'digit2words',\n",
       " 'extract_btc_address',\n",
       " 'extract_currencies',\n",
       " 'extract_currency_symbols',\n",
       " 'extract_dates',\n",
       " 'extract_emails',\n",
       " 'extract_emojis',\n",
       " 'extract_hashtags',\n",
       " 'extract_html_tags',\n",
       " 'extract_mastercard_addr',\n",
       " 'extract_md5sha',\n",
       " 'extract_numbers',\n",
       " 'extract_pattern',\n",
       " 'extract_phone_numbers',\n",
       " 'extract_postoffice_box',\n",
       " 'extract_shortwords',\n",
       " 'extract_special_characters',\n",
       " 'extract_stopwords',\n",
       " 'extract_street_address',\n",
       " 'extract_terms_in_bracket',\n",
       " 'extract_urls',\n",
       " 'extract_userhandles',\n",
       " 'extract_visacard_addr',\n",
       " 'fix_contractions',\n",
       " 'generate_sentence',\n",
       " 'hamming_distance',\n",
       " 'inverse_df',\n",
       " 'lexical_richness',\n",
       " 'markov_chain',\n",
       " 'math',\n",
       " 'nlargest',\n",
       " 'normalize',\n",
       " 'num2words',\n",
       " 'random',\n",
       " 're',\n",
       " 'read_txt',\n",
       " 'remove_accents',\n",
       " 'remove_bad_quotes',\n",
       " 'remove_btc_address',\n",
       " 'remove_currencies',\n",
       " 'remove_currency_symbols',\n",
       " 'remove_custom_pattern',\n",
       " 'remove_custom_words',\n",
       " 'remove_dates',\n",
       " 'remove_emails',\n",
       " 'remove_emojis',\n",
       " 'remove_hashtags',\n",
       " 'remove_html_tags',\n",
       " 'remove_mastercard_addr',\n",
       " 'remove_md5sha',\n",
       " 'remove_multiple_spaces',\n",
       " 'remove_non_ascii',\n",
       " 'remove_numbers',\n",
       " 'remove_phone_numbers',\n",
       " 'remove_postoffice_box',\n",
       " 'remove_puncts',\n",
       " 'remove_punctuations',\n",
       " 'remove_shortwords',\n",
       " 'remove_special_characters',\n",
       " 'remove_stopwords',\n",
       " 'remove_street_address',\n",
       " 'remove_terms_in_bracket',\n",
       " 'remove_urls',\n",
       " 'remove_userhandles',\n",
       " 'remove_visacard_addr',\n",
       " 'replace_bad_quotes',\n",
       " 'replace_currencies',\n",
       " 'replace_currency_symbols',\n",
       " 'replace_dates',\n",
       " 'replace_emails',\n",
       " 'replace_emojis',\n",
       " 'replace_numbers',\n",
       " 'replace_phone_numbers',\n",
       " 'replace_special_characters',\n",
       " 'replace_term',\n",
       " 'replace_urls',\n",
       " 'string',\n",
       " 'term_freq',\n",
       " 'to_txt',\n",
       " 'unicodedata',\n",
       " 'word_freq',\n",
       " 'word_length_freq']"
      ]
     },
     "execution_count": 4,
     "metadata": {},
     "output_type": "execute_result"
    }
   ],
   "source": [
    "dir(nfx)"
   ]
  },
  {
   "cell_type": "code",
   "execution_count": 27,
   "id": "56ea4932",
   "metadata": {},
   "outputs": [],
   "source": []
  },
  {
   "cell_type": "code",
   "execution_count": 28,
   "id": "1c8beefe",
   "metadata": {},
   "outputs": [
    {
     "data": {
      "text/html": [
       "<div>\n",
       "<style scoped>\n",
       "    .dataframe tbody tr th:only-of-type {\n",
       "        vertical-align: middle;\n",
       "    }\n",
       "\n",
       "    .dataframe tbody tr th {\n",
       "        vertical-align: top;\n",
       "    }\n",
       "\n",
       "    .dataframe thead th {\n",
       "        text-align: right;\n",
       "    }\n",
       "</style>\n",
       "<table border=\"1\" class=\"dataframe\">\n",
       "  <thead>\n",
       "    <tr style=\"text-align: right;\">\n",
       "      <th></th>\n",
       "      <th>text</th>\n",
       "      <th>clean_tweet</th>\n",
       "    </tr>\n",
       "  </thead>\n",
       "  <tbody>\n",
       "    <tr>\n",
       "      <th>0</th>\n",
       "      <td>If I smelled the scent of hand sanitizers toda...</td>\n",
       "      <td>If I smelled the scent of hand sanitizers toda...</td>\n",
       "    </tr>\n",
       "    <tr>\n",
       "      <th>1</th>\n",
       "      <td>Hey @Yankees @YankeesPR and @MLB - wouldn't it...</td>\n",
       "      <td>Hey @Yankees @YankeesPR and @MLB - wouldn't it...</td>\n",
       "    </tr>\n",
       "    <tr>\n",
       "      <th>2</th>\n",
       "      <td>@diane3443 @wdunlap @realDonaldTrump Trump nev...</td>\n",
       "      <td>@diane3443 @wdunlap @realDonaldTrump Trump nev...</td>\n",
       "    </tr>\n",
       "    <tr>\n",
       "      <th>3</th>\n",
       "      <td>@brookbanktv The one gift #COVID19 has give me...</td>\n",
       "      <td>@brookbanktv The one gift   has give me is an ...</td>\n",
       "    </tr>\n",
       "    <tr>\n",
       "      <th>4</th>\n",
       "      <td>25 July : Media Bulletin on Novel #CoronaVirus...</td>\n",
       "      <td>25 July : Media Bulletin on Novel     \\n@kansa...</td>\n",
       "    </tr>\n",
       "    <tr>\n",
       "      <th>...</th>\n",
       "      <td>...</td>\n",
       "      <td>...</td>\n",
       "    </tr>\n",
       "    <tr>\n",
       "      <th>179103</th>\n",
       "      <td>Thanks @IamOhmai for nominating me for the @WH...</td>\n",
       "      <td>Thanks @IamOhmai for nominating me for the @WH...</td>\n",
       "    </tr>\n",
       "    <tr>\n",
       "      <th>179104</th>\n",
       "      <td>2020! The year of insanity! Lol! #COVID19 http...</td>\n",
       "      <td>2020! The year of insanity! Lol!   https://t.c...</td>\n",
       "    </tr>\n",
       "    <tr>\n",
       "      <th>179105</th>\n",
       "      <td>@CTVNews A powerful painting by Juan Lucena. I...</td>\n",
       "      <td>@CTVNews A powerful painting by Juan Lucena. I...</td>\n",
       "    </tr>\n",
       "    <tr>\n",
       "      <th>179106</th>\n",
       "      <td>More than 1,200 students test positive for #CO...</td>\n",
       "      <td>More than 1,200 students test positive for   a...</td>\n",
       "    </tr>\n",
       "    <tr>\n",
       "      <th>179107</th>\n",
       "      <td>I stop when I see a Stop\\n\\n@SABCNews\\n@Izinda...</td>\n",
       "      <td>I stop when I see a Stop\\n\\n@SABCNews\\n@Izinda...</td>\n",
       "    </tr>\n",
       "  </tbody>\n",
       "</table>\n",
       "<p>179108 rows × 2 columns</p>\n",
       "</div>"
      ],
      "text/plain": [
       "                                                     text  \\\n",
       "0       If I smelled the scent of hand sanitizers toda...   \n",
       "1       Hey @Yankees @YankeesPR and @MLB - wouldn't it...   \n",
       "2       @diane3443 @wdunlap @realDonaldTrump Trump nev...   \n",
       "3       @brookbanktv The one gift #COVID19 has give me...   \n",
       "4       25 July : Media Bulletin on Novel #CoronaVirus...   \n",
       "...                                                   ...   \n",
       "179103  Thanks @IamOhmai for nominating me for the @WH...   \n",
       "179104  2020! The year of insanity! Lol! #COVID19 http...   \n",
       "179105  @CTVNews A powerful painting by Juan Lucena. I...   \n",
       "179106  More than 1,200 students test positive for #CO...   \n",
       "179107  I stop when I see a Stop\\n\\n@SABCNews\\n@Izinda...   \n",
       "\n",
       "                                              clean_tweet  \n",
       "0       If I smelled the scent of hand sanitizers toda...  \n",
       "1       Hey @Yankees @YankeesPR and @MLB - wouldn't it...  \n",
       "2       @diane3443 @wdunlap @realDonaldTrump Trump nev...  \n",
       "3       @brookbanktv The one gift   has give me is an ...  \n",
       "4       25 July : Media Bulletin on Novel     \\n@kansa...  \n",
       "...                                                   ...  \n",
       "179103  Thanks @IamOhmai for nominating me for the @WH...  \n",
       "179104  2020! The year of insanity! Lol!   https://t.c...  \n",
       "179105  @CTVNews A powerful painting by Juan Lucena. I...  \n",
       "179106  More than 1,200 students test positive for   a...  \n",
       "179107  I stop when I see a Stop\\n\\n@SABCNews\\n@Izinda...  \n",
       "\n",
       "[179108 rows x 2 columns]"
      ]
     },
     "execution_count": 28,
     "metadata": {},
     "output_type": "execute_result"
    }
   ],
   "source": []
  },
  {
   "cell_type": "code",
   "execution_count": 50,
   "id": "ce8f99fb",
   "metadata": {},
   "outputs": [],
   "source": [
    "df['clean_tweet']=df['text'].apply(nfx.remove_urls)"
   ]
  },
  {
   "cell_type": "code",
   "execution_count": 51,
   "id": "6a3ebfef",
   "metadata": {},
   "outputs": [],
   "source": [
    "df['clean_tweet']=df['clean_tweet'].apply(lambda x: nfx.remove_userhandles(x))"
   ]
  },
  {
   "cell_type": "code",
   "execution_count": 52,
   "id": "8bd1ceb0",
   "metadata": {},
   "outputs": [],
   "source": [
    "df['clean_tweet']=df['clean_tweet'].apply(nfx.remove_multiple_spaces)"
   ]
  },
  {
   "cell_type": "code",
   "execution_count": 53,
   "id": "a88da162",
   "metadata": {},
   "outputs": [],
   "source": [
    "df['clean_tweet']=df['clean_tweet'].apply(nfx.remove_puncts)"
   ]
  },
  {
   "cell_type": "code",
   "execution_count": 54,
   "id": "7d28be4c",
   "metadata": {},
   "outputs": [],
   "source": [
    "df['clean_tweet']=df['clean_tweet'].apply(nfx.remove_hashtags)"
   ]
  },
  {
   "cell_type": "code",
   "execution_count": 55,
   "id": "ff3a0d42",
   "metadata": {},
   "outputs": [
    {
     "data": {
      "text/html": [
       "<div>\n",
       "<style scoped>\n",
       "    .dataframe tbody tr th:only-of-type {\n",
       "        vertical-align: middle;\n",
       "    }\n",
       "\n",
       "    .dataframe tbody tr th {\n",
       "        vertical-align: top;\n",
       "    }\n",
       "\n",
       "    .dataframe thead th {\n",
       "        text-align: right;\n",
       "    }\n",
       "</style>\n",
       "<table border=\"1\" class=\"dataframe\">\n",
       "  <thead>\n",
       "    <tr style=\"text-align: right;\">\n",
       "      <th></th>\n",
       "      <th>text</th>\n",
       "      <th>clean_tweet</th>\n",
       "    </tr>\n",
       "  </thead>\n",
       "  <tbody>\n",
       "    <tr>\n",
       "      <th>0</th>\n",
       "      <td>If I smelled the scent of hand sanitizers toda...</td>\n",
       "      <td>If I smelled the scent of hand sanitizers toda...</td>\n",
       "    </tr>\n",
       "    <tr>\n",
       "      <th>1</th>\n",
       "      <td>Hey @Yankees @YankeesPR and @MLB - wouldn't it...</td>\n",
       "      <td>Hey and  wouldnt it have made more sense to ha...</td>\n",
       "    </tr>\n",
       "    <tr>\n",
       "      <th>2</th>\n",
       "      <td>@diane3443 @wdunlap @realDonaldTrump Trump nev...</td>\n",
       "      <td>Trump never once claimed   was a hoax We all ...</td>\n",
       "    </tr>\n",
       "    <tr>\n",
       "      <th>3</th>\n",
       "      <td>@brookbanktv The one gift #COVID19 has give me...</td>\n",
       "      <td>The one gift   has give me is an appreciation...</td>\n",
       "    </tr>\n",
       "    <tr>\n",
       "      <th>4</th>\n",
       "      <td>25 July : Media Bulletin on Novel #CoronaVirus...</td>\n",
       "      <td>25 July : Media Bulletin on Novel</td>\n",
       "    </tr>\n",
       "    <tr>\n",
       "      <th>...</th>\n",
       "      <td>...</td>\n",
       "      <td>...</td>\n",
       "    </tr>\n",
       "    <tr>\n",
       "      <th>179103</th>\n",
       "      <td>Thanks @IamOhmai for nominating me for the @WH...</td>\n",
       "      <td>Thanks for nominating me for the   challenge I...</td>\n",
       "    </tr>\n",
       "    <tr>\n",
       "      <th>179104</th>\n",
       "      <td>2020! The year of insanity! Lol! #COVID19 http...</td>\n",
       "      <td>2020 The year of insanity Lol</td>\n",
       "    </tr>\n",
       "    <tr>\n",
       "      <th>179105</th>\n",
       "      <td>@CTVNews A powerful painting by Juan Lucena. I...</td>\n",
       "      <td>A powerful painting by Juan Lucena Its a trib...</td>\n",
       "    </tr>\n",
       "    <tr>\n",
       "      <th>179106</th>\n",
       "      <td>More than 1,200 students test positive for #CO...</td>\n",
       "      <td>More than 1200 students test positive for   at...</td>\n",
       "    </tr>\n",
       "    <tr>\n",
       "      <th>179107</th>\n",
       "      <td>I stop when I see a Stop\\n\\n@SABCNews\\n@Izinda...</td>\n",
       "      <td>I stop when I see a Stop</td>\n",
       "    </tr>\n",
       "  </tbody>\n",
       "</table>\n",
       "<p>179108 rows × 2 columns</p>\n",
       "</div>"
      ],
      "text/plain": [
       "                                                     text  \\\n",
       "0       If I smelled the scent of hand sanitizers toda...   \n",
       "1       Hey @Yankees @YankeesPR and @MLB - wouldn't it...   \n",
       "2       @diane3443 @wdunlap @realDonaldTrump Trump nev...   \n",
       "3       @brookbanktv The one gift #COVID19 has give me...   \n",
       "4       25 July : Media Bulletin on Novel #CoronaVirus...   \n",
       "...                                                   ...   \n",
       "179103  Thanks @IamOhmai for nominating me for the @WH...   \n",
       "179104  2020! The year of insanity! Lol! #COVID19 http...   \n",
       "179105  @CTVNews A powerful painting by Juan Lucena. I...   \n",
       "179106  More than 1,200 students test positive for #CO...   \n",
       "179107  I stop when I see a Stop\\n\\n@SABCNews\\n@Izinda...   \n",
       "\n",
       "                                              clean_tweet  \n",
       "0       If I smelled the scent of hand sanitizers toda...  \n",
       "1       Hey and  wouldnt it have made more sense to ha...  \n",
       "2        Trump never once claimed   was a hoax We all ...  \n",
       "3        The one gift   has give me is an appreciation...  \n",
       "4                  25 July : Media Bulletin on Novel       \n",
       "...                                                   ...  \n",
       "179103  Thanks for nominating me for the   challenge I...  \n",
       "179104                   2020 The year of insanity Lol     \n",
       "179105   A powerful painting by Juan Lucena Its a trib...  \n",
       "179106  More than 1200 students test positive for   at...  \n",
       "179107                          I stop when I see a Stop   \n",
       "\n",
       "[179108 rows x 2 columns]"
      ]
     },
     "execution_count": 55,
     "metadata": {},
     "output_type": "execute_result"
    }
   ],
   "source": [
    "df[['text','clean_tweet']]"
   ]
  },
  {
   "cell_type": "code",
   "execution_count": 57,
   "id": "517351a9",
   "metadata": {},
   "outputs": [],
   "source": [
    "from textblob import TextBlob"
   ]
  },
  {
   "cell_type": "code",
   "execution_count": 58,
   "id": "4a480fc8",
   "metadata": {},
   "outputs": [],
   "source": [
    "def get_sentiment(text):\n",
    "      blob = TextBlob(text)\n",
    "      sentiment_polarity = blob.sentiment.polarity\n",
    "      sentiment_subjectivity = blob.sentiment.subjectivity\n",
    "      if sentiment_polarity > 0:\n",
    "         sentiment_label = 'Positive'\n",
    "      elif sentiment_polarity < 0:\n",
    "         sentiment_label = 'Negative'\n",
    "      else:\n",
    "         sentiment_label = 'Neutral'\n",
    "      result = {'polarity':sentiment_polarity,\n",
    "                'subjectivity':sentiment_subjectivity,\n",
    "                'sentiment':sentiment_label}\n",
    "      return result"
   ]
  },
  {
   "cell_type": "code",
   "execution_count": 59,
   "id": "8f1b4623",
   "metadata": {},
   "outputs": [],
   "source": [
    "ex1 = df['clean_tweet'].iloc[0]"
   ]
  },
  {
   "cell_type": "code",
   "execution_count": 60,
   "id": "9e9b8688",
   "metadata": {},
   "outputs": [
    {
     "data": {
      "text/plain": [
       "{'polarity': -0.25, 'subjectivity': 0.25, 'sentiment': 'Negative'}"
      ]
     },
     "execution_count": 60,
     "metadata": {},
     "output_type": "execute_result"
    }
   ],
   "source": [
    "get_sentiment(ex1)"
   ]
  },
  {
   "cell_type": "code",
   "execution_count": 61,
   "id": "9c41fab2",
   "metadata": {},
   "outputs": [],
   "source": [
    "df['sentiment_final'] = df['clean_tweet'].apply(get_sentiment)"
   ]
  },
  {
   "cell_type": "code",
   "execution_count": 62,
   "id": "37242432",
   "metadata": {},
   "outputs": [
    {
     "data": {
      "text/plain": [
       "0         {'polarity': -0.25, 'subjectivity': 0.25, 'sen...\n",
       "1         {'polarity': 0.5, 'subjectivity': 0.5, 'sentim...\n",
       "2         {'polarity': 0.0, 'subjectivity': 0.0, 'sentim...\n",
       "3         {'polarity': 0.0, 'subjectivity': 0.3571428571...\n",
       "4         {'polarity': 0.0, 'subjectivity': 0.0, 'sentim...\n",
       "                                ...                        \n",
       "179103    {'polarity': 0.2, 'subjectivity': 0.2, 'sentim...\n",
       "179104    {'polarity': 0.8, 'subjectivity': 0.7, 'sentim...\n",
       "179105    {'polarity': 0.3, 'subjectivity': 1.0, 'sentim...\n",
       "179106    {'polarity': 0.26325757575757575, 'subjectivit...\n",
       "179107    {'polarity': 0.0, 'subjectivity': 0.0, 'sentim...\n",
       "Name: sentiment_final, Length: 179108, dtype: object"
      ]
     },
     "execution_count": 62,
     "metadata": {},
     "output_type": "execute_result"
    }
   ],
   "source": [
    "df['sentiment_final']"
   ]
  },
  {
   "cell_type": "code",
   "execution_count": 64,
   "id": "b67dc479",
   "metadata": {},
   "outputs": [],
   "source": [
    "df=df.join(pd.json_normalize(df['sentiment_final']))"
   ]
  },
  {
   "cell_type": "code",
   "execution_count": 65,
   "id": "aebabecb",
   "metadata": {},
   "outputs": [
    {
     "data": {
      "text/plain": [
       "Neutral     75490\n",
       "Positive    74154\n",
       "Negative    29464\n",
       "Name: sentiment, dtype: int64"
      ]
     },
     "execution_count": 65,
     "metadata": {},
     "output_type": "execute_result"
    }
   ],
   "source": [
    "df['sentiment'].value_counts()"
   ]
  },
  {
   "cell_type": "code",
   "execution_count": 66,
   "id": "487637bf",
   "metadata": {},
   "outputs": [
    {
     "data": {
      "text/plain": [
       "<AxesSubplot:>"
      ]
     },
     "execution_count": 66,
     "metadata": {},
     "output_type": "execute_result"
    },
    {
     "data": {
      "image/png": "[encoded data removed]",
      "text/plain": [
       "<Figure size 432x288 with 1 Axes>"
      ]
     },
     "metadata": {
      "needs_background": "light"
     },
     "output_type": "display_data"
    }
   ],
   "source": [
    "df['sentiment'].value_counts().plot(kind='bar')"
   ]
  },
  {
   "cell_type": "code",
   "execution_count": 68,
   "id": "c70e52b8",
   "metadata": {},
   "outputs": [
    {
     "data": {
      "text/plain": [
       "<AxesSubplot:xlabel='sentiment', ylabel='count'>"
      ]
     },
     "execution_count": 68,
     "metadata": {},
     "output_type": "execute_result"
    },
    {
     "data": {
      "image/png": "[encoded data removed]",
      "text/plain": [
       "<Figure size 432x288 with 1 Axes>"
      ]
     },
     "metadata": {
      "needs_background": "light"
     },
     "output_type": "display_data"
    }
   ],
   "source": [
    "sns.countplot(df['sentiment'])"
   ]
  },
  {
   "cell_type": "code",
   "execution_count": null,
   "id": "3379cf62",
   "metadata": {},
   "outputs": [],
   "source": []
  }
 ],
 "metadata": {
  "kernelspec": {
   "display_name": "Python 3 (ipykernel)",
   "language": "python",
   "name": "python3"
  },
  "language_info": {
   "codemirror_mode": {
    "name": "ipython",
    "version": 3
   },
   "file_extension": ".py",
   "mimetype": "text/x-python",
   "name": "python",
   "nbconvert_exporter": "python",
   "pygments_lexer": "ipython3",
   "version": "3.9.7"
  }
 },
 "nbformat": 4,
 "nbformat_minor": 5
}
